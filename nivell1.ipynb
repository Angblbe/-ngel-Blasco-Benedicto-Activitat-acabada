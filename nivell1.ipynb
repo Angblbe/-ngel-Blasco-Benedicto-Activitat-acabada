{
 "cells": [
  {
   "cell_type": "markdown",
   "id": "fdaa6fe5-a80d-4673-ab95-5859bbd0b6f2",
   "metadata": {},
   "source": [
    "# Nivell 1"
   ]
  },
  {
   "cell_type": "markdown",
   "id": "e3b4ea48-2cb1-4ff6-b2f0-c2a631d05d2b",
   "metadata": {},
   "source": [
    "## Pregunta 1"
   ]
  },
  {
   "cell_type": "markdown",
   "id": "048a569f-5546-474c-9108-fed430deba23",
   "metadata": {},
   "source": [
    "Executa el següent codi en una cel·la:\n",
    "\n",
    "```java\n",
    "byte b1 = (byte)127;\n",
    "byte b2 = (byte)149;\n",
    "println(b1);\n",
    "println(b2);\n",
    "```\n",
    "\n",
    "Quins resultats obtens? **Per què**?"
   ]
  },
  {
   "cell_type": "code",
   "execution_count": 2,
   "id": "d143d56f-09e0-4e9f-aac0-048accd4c1f8",
   "metadata": {},
   "outputs": [
    {
     "name": "stdout",
     "output_type": "stream",
     "text": [
      "127\n",
      "-107\n"
     ]
    }
   ],
   "source": [
    "//Escriu i executa el codi aquí\n",
    "\n",
    "byte b1 = (byte)127;\n",
    "byte b2 = (byte)149;\n",
    "println(b1);\n",
    "println(b2);\n"
   ]
  },
  {
   "cell_type": "markdown",
   "id": "e8e75e51-f5cb-46f5-8092-34f3145ed962",
   "metadata": {},
   "source": [
    "Resposta:\n",
    "\n",
    "_En el primer cas (b1) no surt negatiu per al fet que dintre d'un byte el numero 127 esta inclos en el seu rang de domini, en comptes en el segon cas estem forçant al programa a exacutar una xifra que no pertany al domini del byte, sino del short. Donant com a resultat la perdua de valor de la xifra._"
   ]
  },
  {
   "cell_type": "markdown",
   "id": "f3c3e485-34d2-4c5b-b299-111b37988088",
   "metadata": {},
   "source": [
    "## Pregunta 2"
   ]
  },
  {
   "cell_type": "markdown",
   "id": "403823e3-25df-4d72-8123-c6c28c971277",
   "metadata": {},
   "source": [
    "Executa el següent codi en una cel·la:\n",
    "\n",
    "```java\n",
    "var v1 = 10;\n",
    "var v2 = 10.0;\n",
    "println(v1);\n",
    "println(v2);\n",
    "```\n",
    "\n",
    "De quin tipus de dada són les variables v1 i v2? **Per què**?"
   ]
  },
  {
   "cell_type": "code",
   "execution_count": 3,
   "id": "07c33012-927c-4e69-8100-33d44ccb4422",
   "metadata": {},
   "outputs": [
    {
     "name": "stdout",
     "output_type": "stream",
     "text": [
      "10\n",
      "10.0\n"
     ]
    }
   ],
   "source": [
    "//Escriu i executa el codi aquí\n",
    "\n",
    "var v1 = 10;\n",
    "var v2 = 10.0;\n",
    "println(v1);\n",
    "println(v2);"
   ]
  },
  {
   "cell_type": "markdown",
   "id": "3dc0645e-1dad-4a19-aa2c-bb963db5cb94",
   "metadata": {},
   "source": [
    "Resposta:\n",
    "\n",
    "_El tipus de dada de \"v1\" és Integer i del \"v2\" float_"
   ]
  },
  {
   "cell_type": "markdown",
   "id": "40d712d0-433b-450b-9150-de544e89f85f",
   "metadata": {},
   "source": [
    "Ara, executa:\n",
    "\n",
    "```java\n",
    "var v3 = v1 + v2;\n",
    "```\n",
    "De quin tipus de dada és la variable v3? **Per què** (què està passant en fer-se la suma)?"
   ]
  },
  {
   "cell_type": "code",
   "execution_count": 5,
   "id": "fb14fce1-6196-4e36-bc1c-f3afbdee22c5",
   "metadata": {},
   "outputs": [],
   "source": [
    "//Escriu i executa el codi aquí\n",
    "\n",
    "var v3 = v1 + v2;"
   ]
  },
  {
   "cell_type": "markdown",
   "id": "25d1ba13-d747-439d-b061-121e1a058578",
   "metadata": {},
   "source": [
    "Resposta:\n",
    "\n",
    "_La \"v3\" és tracta d'un int pel fet què cada variable és tractaria d'un numero el qual no està identificat i es representa mitjançant lletres (co per exemple x, y, z...), però en aquest cas amb v1, v2 i v3. _"
   ]
  },
  {
   "cell_type": "markdown",
   "id": "4f338da3-0585-47ee-9271-ad04cadb0720",
   "metadata": {},
   "source": [
    "## Pregunta 3"
   ]
  },
  {
   "cell_type": "markdown",
   "id": "2260437d-47e9-4709-b48a-f16ea3f70e0c",
   "metadata": {},
   "source": [
    "Executa el següent codi en una cel·la:\n",
    "\n",
    "```java\n",
    "var b = 65;\n",
    "println(b);\n",
    "b = 'B';\n",
    "println(b);\n",
    "\n",
    "var a = 'A';\n",
    "println(a);\n",
    "a = 66;\n",
    "println(a);\n",
    "```\n",
    "\n",
    "De quin tipus de dada són les variables b i a? **Per què**?"
   ]
  },
  {
   "cell_type": "code",
   "execution_count": 6,
   "id": "78b21702-c475-4aa9-ab6c-1997251eb0ad",
   "metadata": {},
   "outputs": [
    {
     "name": "stdout",
     "output_type": "stream",
     "text": [
      "65\n",
      "66\n",
      "A\n",
      "B\n"
     ]
    }
   ],
   "source": [
    "//Escriu i executa el codi aquí\n",
    "\n",
    "var b = 65;\n",
    "println(b);\n",
    "b = 'B';\n",
    "println(b);\n",
    "\n",
    "var a = 'A';\n",
    "println(a);\n",
    "a = 66;\n",
    "println(a);"
   ]
  },
  {
   "cell_type": "markdown",
   "id": "0e443e29-eefc-4943-9908-22e825121671",
   "metadata": {},
   "source": [
    "Resposta:\n",
    "\n",
    "_Les variables b i a són de tipus int i char. _"
   ]
  },
  {
   "cell_type": "markdown",
   "id": "fc4c8446-8e5b-4df4-b9e4-82f7dfe73987",
   "metadata": {},
   "source": [
    "## Exercici 1"
   ]
  },
  {
   "cell_type": "markdown",
   "id": "63442660-fb03-4799-882c-27f866859437",
   "metadata": {},
   "source": [
    "#### Divisibilitat\n",
    "\n",
    "Un número enter A **és divisible** per un altre número enter B quan el resultat de la seva divisió dóna també un número enter (és a dir, un número sense decimals, o amb decimals igual a 0). Per exemple:"
   ]
  },
  {
   "cell_type": "code",
   "execution_count": 9,
   "id": "3b5726fb-ab2f-4ac1-b4a1-10334f1886a9",
   "metadata": {},
   "outputs": [
    {
     "name": "stdout",
     "output_type": "stream",
     "text": [
      "5.0\n",
      "7.5\n",
      "5.0\n"
     ]
    }
   ],
   "source": [
    "//10 és divisible per 2\n",
    "println(10.0 / 2);\n",
    "\n",
    "//15 NO és divisible per 2\n",
    "println(15.0 / 2);\n",
    "\n",
    "//15 sí és divisible per 3\n",
    "println(15.0 / 3);"
   ]
  },
  {
   "cell_type": "markdown",
   "id": "1ada6b49-5377-4b37-9d8f-68d4b40a53ca",
   "metadata": {},
   "source": [
    "Però la manera més ràpida de saber si un número enter A és divisible per un altre número enter B, no és fent-ne la divisió, sinó **calculant-ne el residu** de la divisió entera:\n",
    "\n",
    "- Si el residu dóna 0, A és divisible per B\n",
    "- Si el residu NO dóna 0, A NO és divisible per B\n",
    "\n",
    "En programació, es calcula el residu amb l'operació anomenada **mòdul**, que s'expressa amb el símbol ```%```. Per exemple:"
   ]
  },
  {
   "cell_type": "code",
   "execution_count": 7,
   "id": "31dbe3fc-2686-4426-8d51-190a9fead338",
   "metadata": {},
   "outputs": [
    {
     "name": "stdout",
     "output_type": "stream",
     "text": [
      "0\n"
     ]
    }
   ],
   "source": [
    "//El residu de 10 dividit entre 2 és 0, per tant 10 és divisible per 2\n",
    "println(10 % 2);"
   ]
  },
  {
   "cell_type": "code",
   "execution_count": 8,
   "id": "bd79d0cb-07d7-4b02-a785-0f29483ed5d2",
   "metadata": {},
   "outputs": [
    {
     "name": "stdout",
     "output_type": "stream",
     "text": [
      "1\n"
     ]
    }
   ],
   "source": [
    "//El residu de 15 dividit entre 2 NO és 0, per tant 15 NO és divisible per 2\n",
    "println(15 % 2);"
   ]
  },
  {
   "cell_type": "markdown",
   "id": "8aa66c99-bc67-4b7d-8958-202547fdd8dd",
   "metadata": {},
   "source": [
    "> **Tots els números enters són divisibles per sí mateixos i per 1**. Sigui N un número enter, sempre es compleix:\n",
    "\n",
    "```\n",
    "N % N == 0\n",
    "N % 1 == 0\n",
    "```"
   ]
  },
  {
   "cell_type": "markdown",
   "id": "7a4f0e41-f242-474e-8f00-db8254cf6903",
   "metadata": {},
   "source": [
    "#### Números primers\n",
    "\n",
    "Un número enter N és primer si només és divisible per sí mateix i per 1, és a dir, es compleix:\n",
    "\n",
    "```\n",
    "N % N == 0\n",
    "N % 1 == 0\n",
    "N % k != 0\n",
    "```\n",
    "**Per tot valor de k entre 2 i N - 1**. Si fos divisible per algun valor de k, llavors N no és primer."
   ]
  },
  {
   "cell_type": "markdown",
   "id": "42a2f675-1ab3-4e4f-adc2-6d0a3460ceaa",
   "metadata": {},
   "source": [
    "#### Exercici\n",
    "\n",
    "Escriu una funció, la signatura de la qual serà\n",
    "\n",
    "```java\n",
    "void isPrime(int n);\n",
    "```\n",
    "que imprimeixi ```true``` si n és un número primer positiu, o ```false``` si n és un número no primer o bé és 0, o bé és un enter negatiu.\n",
    "\n",
    "Per exemple:\n",
    "\n",
    "```java\n",
    "isPrime(7); //Imprimirà true\n",
    "isPrime(20); //Imprimirà false\n",
    "isPrime(0); //Imprimirà false\n",
    "isPrime(-7); //Imprimirà false\n",
    "```"
   ]
  },
  {
   "cell_type": "code",
   "execution_count": 41,
   "id": "a38d2188-d3e2-4a76-ba9c-4db50f643eba",
   "metadata": {},
   "outputs": [
    {
     "ename": "CompilationException",
     "evalue": "",
     "output_type": "error",
     "traceback": [
      "\u001b[1m\u001b[30m|   \u001b[1m\u001b[30mif (time\u001b[0m\u001b[1m\u001b[30m\u001b[41m\u001b[0m\u001b[1m\u001b[30m 7 == 1) {\u001b[0m",
      "\u001b[1m\u001b[31m')' expected\u001b[0m",
      "",
      "\u001b[1m\u001b[30m|   \u001b[1m\u001b[30mif (time \u001b[0m\u001b[1m\u001b[30m\u001b[41m7 == 1\u001b[0m\u001b[1m\u001b[30m) {\u001b[0m",
      "\u001b[1m\u001b[31mnot a statement\u001b[0m",
      "",
      "\u001b[1m\u001b[30m|   \u001b[1m\u001b[30mif (time 7 == 1\u001b[0m\u001b[1m\u001b[30m\u001b[41m\u001b[0m\u001b[1m\u001b[30m) {\u001b[0m",
      "\u001b[1m\u001b[31m';' expected\u001b[0m",
      "",
      "\u001b[1m\u001b[30m|   \u001b[1m\u001b[30m} else if (time < \u001b[0m\u001b[1m\u001b[30m\u001b[41m\u001b[0m\u001b[1m\u001b[30m) {\u001b[0m",
      "\u001b[1m\u001b[31millegal start of expression\u001b[0m",
      "",
      "\u001b[1m\u001b[30m|   \u001b[1m\u001b[30m} else \u001b[0m\u001b[1m\u001b[30m\u001b[41mif (time < ) {\u001b[0m",
      "\u001b[1m\u001b[30m|   \u001b[1m\u001b[30m\u001b[41m  System.out.println(\"Good day.\");\u001b[0m",
      "\u001b[1m\u001b[30m|   \u001b[1m\u001b[30m\u001b[41m} else {\u001b[0m",
      "\u001b[1m\u001b[30m|   \u001b[1m\u001b[30m\u001b[41m  System.out.println(\"Good evening.\");\u001b[0m",
      "\u001b[1m\u001b[30m|   \u001b[1m\u001b[30m\u001b[41m}\u001b[0m",
      "\u001b[1m\u001b[31m'else' without 'if'\u001b[0m",
      ""
     ]
    }
   ],
   "source": [
    "//Escriu i prova el teu codi aquí\n",
    "\n",
    "void isPrime(int n){\n",
    "    //El teu codi aquí\n",
    "    \n",
    "    String positu = \"true\";\n",
    "    String negatiu = \"false\";\n",
    "       \n",
    "\n",
    "\n",
    "}\n",
    "    int a = 7;\n",
    "    int b = 20;\n",
    "    int c = 0;\n",
    "    int d = -7;\n",
    "\n",
    "}\n",
    "\n",
    "//Proves aquí\n",
    "isPrime(7); \n",
    "isPrime(20); \n",
    "isPrime(0); \n",
    "isPrime(-7);\n"
   ]
  },
  {
   "cell_type": "markdown",
   "id": "9db0fe46-0274-40cf-8774-2b57efb4e4a7",
   "metadata": {},
   "source": [
    "## Exercici 2"
   ]
  },
  {
   "cell_type": "markdown",
   "id": "e701dac0-7f06-4ceb-9f48-009dbfd1be73",
   "metadata": {},
   "source": [
    "Escriu una funció, la signatura de la qual serà\n",
    "\n",
    "```java\n",
    "int getMax(int[] n);\n",
    "```\n",
    "\n",
    "que retorni un enter igual al màxim de tots els enters que composen l'array."
   ]
  },
  {
   "cell_type": "code",
   "execution_count": null,
   "id": "40fcb645-da29-41dd-ab53-8e12f7898939",
   "metadata": {},
   "outputs": [],
   "source": [
    "//Escriu i prova el teu codi aquí\n",
    "\n",
    "int getMax(int[] n){\n",
    "    //El teu codi aquí    \n",
    "}\n",
    "\n",
    "//Crea les teves proves aquí\n"
   ]
  },
  {
   "cell_type": "markdown",
   "id": "01566c7e-828a-4ded-9da1-240f8560c7fb",
   "metadata": {},
   "source": [
    "## Exercici 3"
   ]
  },
  {
   "cell_type": "markdown",
   "id": "dd31eb52-c25a-4bdf-a125-049aaef50aa0",
   "metadata": {},
   "source": [
    "Escriu una funció, la signatura de la qual serà\n",
    "\n",
    "```java\n",
    "double getAverage(double[] d);\n",
    "```\n",
    "\n",
    "que retorni un double igual a la mitjana aritmètica de tots els elements que composen l'array."
   ]
  },
  {
   "cell_type": "code",
   "execution_count": null,
   "id": "ace84db0-b8f9-4ba8-a33d-530cb32d6d13",
   "metadata": {},
   "outputs": [],
   "source": [
    "//Escriu i prova el teu codi aquí\n",
    "\n",
    "double getAverage(double[] d){\n",
    "    //El teu codi aquí\n",
    "}\n",
    "\n",
    "//Crea les teves proves aquí"
   ]
  },
  {
   "cell_type": "code",
   "execution_count": null,
   "id": "0898d369-07bc-4c45-a19c-fae433ff0eef",
   "metadata": {},
   "outputs": [],
   "source": []
  }
 ],
 "metadata": {
  "kernelspec": {
   "display_name": "Java 11",
   "language": "java",
   "name": "java"
  },
  "language_info": {
   "codemirror_mode": "java",
   "file_extension": ".jshell",
   "mimetype": "text/x-java-source",
   "name": "Java",
   "pygments_lexer": "java",
   "version": "11.0.11+9-Ubuntu-0ubuntu2.20.04"
  }
 },
 "nbformat": 4,
 "nbformat_minor": 5
}
